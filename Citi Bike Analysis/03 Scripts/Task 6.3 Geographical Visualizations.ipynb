{
 "cells": [
  {
   "cell_type": "markdown",
   "id": "840d346b-30e8-49f5-ae39-28aec12df5a8",
   "metadata": {},
   "source": [
    "### This script contains the following:\n",
    "#### 1. Importing data and libraries\n",
    "#### 2. Data wrangling\n",
    "#### 3. Data cleaning\n",
    "#### 4. Plotting a choropleth"
   ]
  },
  {
   "cell_type": "markdown",
   "id": "f9a2af39-ac2a-4c2a-b454-fc96b6e1aefb",
   "metadata": {},
   "source": [
    "### 1. Importing data and libraries"
   ]
  },
  {
   "cell_type": "code",
   "execution_count": 3,
   "id": "a8657aea-e6cb-42d5-9b2b-f90888313284",
   "metadata": {},
   "outputs": [],
   "source": [
    "# Importing libraries\n",
    "import pandas as pd\n",
    "import numpy as np\n",
    "import seaborn as sns\n",
    "import matplotlib\n",
    "import os\n",
    "import folium\n",
    "import json"
   ]
  },
  {
   "cell_type": "code",
   "execution_count": 4,
   "id": "53fb8611-9860-467a-a6bd-b4b968db2380",
   "metadata": {},
   "outputs": [],
   "source": [
    "# This command prompts matplotlib visuals to appear in the notebook \n",
    "\n",
    "%matplotlib inline"
   ]
  },
  {
   "cell_type": "code",
   "execution_count": 5,
   "id": "9d86ea08-44d0-4a1c-bdb9-c3ffc4e5581d",
   "metadata": {},
   "outputs": [],
   "source": [
    "# Importing the  \".json\" file for the U.S. \n",
    "\n",
    "states_geo = r'/Users/peterguan/Desktop/CareerFoundry/Data Immersion Achievement 6/JSON file U.S. States.json'"
   ]
  },
  {
   "cell_type": "code",
   "execution_count": 6,
   "id": "347b0983-a1ff-4e7b-b924-c269fde53737",
   "metadata": {},
   "outputs": [],
   "source": [
    "# Creating a path for importing/exporting\n",
    "path = r'/Users/peterguan/Citi Bike Analysis'"
   ]
  },
  {
   "cell_type": "code",
   "execution_count": 7,
   "id": "aa388568-1a82-4a63-a0da-9a6e68768c40",
   "metadata": {},
   "outputs": [],
   "source": [
    "# Importing the 'bike_cleaned' dataset\n",
    "bike_cleaned = pd.read_csv(r'/Users/peterguan/Citi Bike Analysis/02 Data/Prepared Data/bike.csv', index_col = False)"
   ]
  },
  {
   "cell_type": "code",
   "execution_count": 8,
   "id": "08a3c4c1-de94-4ab1-9dcb-93da3e385dcb",
   "metadata": {},
   "outputs": [
    {
     "data": {
      "text/html": [
       "<div>\n",
       "<style scoped>\n",
       "    .dataframe tbody tr th:only-of-type {\n",
       "        vertical-align: middle;\n",
       "    }\n",
       "\n",
       "    .dataframe tbody tr th {\n",
       "        vertical-align: top;\n",
       "    }\n",
       "\n",
       "    .dataframe thead th {\n",
       "        text-align: right;\n",
       "    }\n",
       "</style>\n",
       "<table border=\"1\" class=\"dataframe\">\n",
       "  <thead>\n",
       "    <tr style=\"text-align: right;\">\n",
       "      <th></th>\n",
       "      <th>Unnamed: 0</th>\n",
       "      <th>trip_id</th>\n",
       "      <th>bike_id</th>\n",
       "      <th>weekday</th>\n",
       "      <th>start_hour</th>\n",
       "      <th>start_time</th>\n",
       "      <th>start_station_id</th>\n",
       "      <th>start_station_name</th>\n",
       "      <th>start_station_latitude</th>\n",
       "      <th>start_station_longitude</th>\n",
       "      <th>end_time</th>\n",
       "      <th>end_station_id</th>\n",
       "      <th>end_station_name</th>\n",
       "      <th>end_station_latitude</th>\n",
       "      <th>end_station_longitude</th>\n",
       "      <th>trip_duration</th>\n",
       "      <th>subscriber</th>\n",
       "      <th>birth_year</th>\n",
       "      <th>gender</th>\n",
       "      <th>age</th>\n",
       "    </tr>\n",
       "  </thead>\n",
       "  <tbody>\n",
       "    <tr>\n",
       "      <th>0</th>\n",
       "      <td>0</td>\n",
       "      <td>LnQzQk</td>\n",
       "      <td>16013</td>\n",
       "      <td>Mon</td>\n",
       "      <td>18</td>\n",
       "      <td>2013-09-09 18:18:55</td>\n",
       "      <td>523</td>\n",
       "      <td>W 38 St &amp; 8 Ave</td>\n",
       "      <td>40.754666</td>\n",
       "      <td>-73.991382</td>\n",
       "      <td>2013-09-09 18:35:28</td>\n",
       "      <td>334</td>\n",
       "      <td>W 20 St &amp; 7 Ave</td>\n",
       "      <td>40.742388</td>\n",
       "      <td>-73.997262</td>\n",
       "      <td>993</td>\n",
       "      <td>Subscriber</td>\n",
       "      <td>1968</td>\n",
       "      <td>Female</td>\n",
       "      <td>45</td>\n",
       "    </tr>\n",
       "    <tr>\n",
       "      <th>1</th>\n",
       "      <td>1</td>\n",
       "      <td>IL9boN</td>\n",
       "      <td>15230</td>\n",
       "      <td>Thu</td>\n",
       "      <td>18</td>\n",
       "      <td>2013-09-12 18:38:53</td>\n",
       "      <td>257</td>\n",
       "      <td>Lispenard St &amp; Broadway</td>\n",
       "      <td>40.719392</td>\n",
       "      <td>-74.002472</td>\n",
       "      <td>2013-09-12 18:48:34</td>\n",
       "      <td>236</td>\n",
       "      <td>St Marks Pl &amp; 2 Ave</td>\n",
       "      <td>40.728419</td>\n",
       "      <td>-73.987140</td>\n",
       "      <td>581</td>\n",
       "      <td>Subscriber</td>\n",
       "      <td>1983</td>\n",
       "      <td>Male</td>\n",
       "      <td>30</td>\n",
       "    </tr>\n",
       "    <tr>\n",
       "      <th>2</th>\n",
       "      <td>2</td>\n",
       "      <td>46clGB</td>\n",
       "      <td>17942</td>\n",
       "      <td>Wed</td>\n",
       "      <td>19</td>\n",
       "      <td>2013-09-18 19:44:04</td>\n",
       "      <td>479</td>\n",
       "      <td>9 Ave &amp; W 45 St</td>\n",
       "      <td>40.760193</td>\n",
       "      <td>-73.991255</td>\n",
       "      <td>2013-09-18 19:50:05</td>\n",
       "      <td>513</td>\n",
       "      <td>W 56 St &amp; 10 Ave</td>\n",
       "      <td>40.768254</td>\n",
       "      <td>-73.988639</td>\n",
       "      <td>361</td>\n",
       "      <td>Subscriber</td>\n",
       "      <td>1989</td>\n",
       "      <td>Male</td>\n",
       "      <td>24</td>\n",
       "    </tr>\n",
       "    <tr>\n",
       "      <th>3</th>\n",
       "      <td>3</td>\n",
       "      <td>v7vdFt</td>\n",
       "      <td>19683</td>\n",
       "      <td>Sat</td>\n",
       "      <td>11</td>\n",
       "      <td>2013-09-28 11:54:37</td>\n",
       "      <td>527</td>\n",
       "      <td>E 33 St &amp; 1 Ave</td>\n",
       "      <td>40.743156</td>\n",
       "      <td>-73.974347</td>\n",
       "      <td>2013-09-28 12:03:58</td>\n",
       "      <td>441</td>\n",
       "      <td>E 52 St &amp; 2 Ave</td>\n",
       "      <td>40.756014</td>\n",
       "      <td>-73.967416</td>\n",
       "      <td>561</td>\n",
       "      <td>Subscriber</td>\n",
       "      <td>1988</td>\n",
       "      <td>Female</td>\n",
       "      <td>25</td>\n",
       "    </tr>\n",
       "    <tr>\n",
       "      <th>4</th>\n",
       "      <td>4</td>\n",
       "      <td>VGBsb5</td>\n",
       "      <td>18024</td>\n",
       "      <td>Sat</td>\n",
       "      <td>18</td>\n",
       "      <td>2013-09-07 18:08:22</td>\n",
       "      <td>521</td>\n",
       "      <td>8 Ave &amp; W 31 St</td>\n",
       "      <td>40.750450</td>\n",
       "      <td>-73.994811</td>\n",
       "      <td>2013-09-07 18:46:38</td>\n",
       "      <td>476</td>\n",
       "      <td>E 31 St &amp; 3 Ave</td>\n",
       "      <td>40.743943</td>\n",
       "      <td>-73.979661</td>\n",
       "      <td>2296</td>\n",
       "      <td>Non-Subscriber</td>\n",
       "      <td>1978</td>\n",
       "      <td>Unknown</td>\n",
       "      <td>35</td>\n",
       "    </tr>\n",
       "  </tbody>\n",
       "</table>\n",
       "</div>"
      ],
      "text/plain": [
       "   Unnamed: 0 trip_id  bike_id weekday  start_hour           start_time  \\\n",
       "0           0  LnQzQk    16013     Mon          18  2013-09-09 18:18:55   \n",
       "1           1  IL9boN    15230     Thu          18  2013-09-12 18:38:53   \n",
       "2           2  46clGB    17942     Wed          19  2013-09-18 19:44:04   \n",
       "3           3  v7vdFt    19683     Sat          11  2013-09-28 11:54:37   \n",
       "4           4  VGBsb5    18024     Sat          18  2013-09-07 18:08:22   \n",
       "\n",
       "   start_station_id       start_station_name  start_station_latitude  \\\n",
       "0               523          W 38 St & 8 Ave               40.754666   \n",
       "1               257  Lispenard St & Broadway               40.719392   \n",
       "2               479          9 Ave & W 45 St               40.760193   \n",
       "3               527          E 33 St & 1 Ave               40.743156   \n",
       "4               521          8 Ave & W 31 St               40.750450   \n",
       "\n",
       "   start_station_longitude             end_time  end_station_id  \\\n",
       "0               -73.991382  2013-09-09 18:35:28             334   \n",
       "1               -74.002472  2013-09-12 18:48:34             236   \n",
       "2               -73.991255  2013-09-18 19:50:05             513   \n",
       "3               -73.974347  2013-09-28 12:03:58             441   \n",
       "4               -73.994811  2013-09-07 18:46:38             476   \n",
       "\n",
       "      end_station_name  end_station_latitude  end_station_longitude  \\\n",
       "0      W 20 St & 7 Ave             40.742388             -73.997262   \n",
       "1  St Marks Pl & 2 Ave             40.728419             -73.987140   \n",
       "2     W 56 St & 10 Ave             40.768254             -73.988639   \n",
       "3      E 52 St & 2 Ave             40.756014             -73.967416   \n",
       "4      E 31 St & 3 Ave             40.743943             -73.979661   \n",
       "\n",
       "   trip_duration      subscriber  birth_year   gender  age  \n",
       "0            993      Subscriber        1968   Female   45  \n",
       "1            581      Subscriber        1983     Male   30  \n",
       "2            361      Subscriber        1989     Male   24  \n",
       "3            561      Subscriber        1988   Female   25  \n",
       "4           2296  Non-Subscriber        1978  Unknown   35  "
      ]
     },
     "execution_count": 8,
     "metadata": {},
     "output_type": "execute_result"
    }
   ],
   "source": [
    "# Checking the first 5 rows in the dataset\n",
    "bike_cleaned.head()"
   ]
  },
  {
   "cell_type": "code",
   "execution_count": 9,
   "id": "5a7e05ed-c72e-4830-b545-45cff0a5bfac",
   "metadata": {},
   "outputs": [
    {
     "data": {
      "text/plain": [
       "(49972, 20)"
      ]
     },
     "execution_count": 9,
     "metadata": {},
     "output_type": "execute_result"
    }
   ],
   "source": [
    "# Checking the dimensions of the dataset\n",
    "bike_cleaned.shape"
   ]
  },
  {
   "cell_type": "markdown",
   "id": "d4779502-92b0-4aeb-969d-d3de38a8b5fd",
   "metadata": {},
   "source": [
    "### 2. Data wrangling "
   ]
  },
  {
   "cell_type": "code",
   "execution_count": 103,
   "id": "1dbeca5b-2044-4486-803f-9ac9ddafc879",
   "metadata": {},
   "outputs": [],
   "source": [
    "# Selecting only the necessary columns and put them in a list called columns\n",
    "columns = ['start_station_latitude', 'start_station_longitude', 'end_station_latitude', 'end_station_longitude']"
   ]
  },
  {
   "cell_type": "code",
   "execution_count": 105,
   "id": "88aca1a5-ac15-4b6c-be46-eaefedcfbadd",
   "metadata": {},
   "outputs": [],
   "source": [
    "# Creating a subset with the columns list\n",
    "state_rec = bike_cleaned[columns]"
   ]
  },
  {
   "cell_type": "code",
   "execution_count": 107,
   "id": "110d0163-fbd7-41ad-94d6-e85a41df61d4",
   "metadata": {},
   "outputs": [
    {
     "data": {
      "text/html": [
       "<div>\n",
       "<style scoped>\n",
       "    .dataframe tbody tr th:only-of-type {\n",
       "        vertical-align: middle;\n",
       "    }\n",
       "\n",
       "    .dataframe tbody tr th {\n",
       "        vertical-align: top;\n",
       "    }\n",
       "\n",
       "    .dataframe thead th {\n",
       "        text-align: right;\n",
       "    }\n",
       "</style>\n",
       "<table border=\"1\" class=\"dataframe\">\n",
       "  <thead>\n",
       "    <tr style=\"text-align: right;\">\n",
       "      <th></th>\n",
       "      <th>start_station_latitude</th>\n",
       "      <th>start_station_longitude</th>\n",
       "      <th>end_station_latitude</th>\n",
       "      <th>end_station_longitude</th>\n",
       "    </tr>\n",
       "  </thead>\n",
       "  <tbody>\n",
       "    <tr>\n",
       "      <th>0</th>\n",
       "      <td>40.754666</td>\n",
       "      <td>-73.991382</td>\n",
       "      <td>40.742388</td>\n",
       "      <td>-73.997262</td>\n",
       "    </tr>\n",
       "    <tr>\n",
       "      <th>1</th>\n",
       "      <td>40.719392</td>\n",
       "      <td>-74.002472</td>\n",
       "      <td>40.728419</td>\n",
       "      <td>-73.987140</td>\n",
       "    </tr>\n",
       "    <tr>\n",
       "      <th>2</th>\n",
       "      <td>40.760193</td>\n",
       "      <td>-73.991255</td>\n",
       "      <td>40.768254</td>\n",
       "      <td>-73.988639</td>\n",
       "    </tr>\n",
       "    <tr>\n",
       "      <th>3</th>\n",
       "      <td>40.743156</td>\n",
       "      <td>-73.974347</td>\n",
       "      <td>40.756014</td>\n",
       "      <td>-73.967416</td>\n",
       "    </tr>\n",
       "    <tr>\n",
       "      <th>4</th>\n",
       "      <td>40.750450</td>\n",
       "      <td>-73.994811</td>\n",
       "      <td>40.743943</td>\n",
       "      <td>-73.979661</td>\n",
       "    </tr>\n",
       "  </tbody>\n",
       "</table>\n",
       "</div>"
      ],
      "text/plain": [
       "   start_station_latitude  start_station_longitude  end_station_latitude  \\\n",
       "0               40.754666               -73.991382             40.742388   \n",
       "1               40.719392               -74.002472             40.728419   \n",
       "2               40.760193               -73.991255             40.768254   \n",
       "3               40.743156               -73.974347             40.756014   \n",
       "4               40.750450               -73.994811             40.743943   \n",
       "\n",
       "   end_station_longitude  \n",
       "0             -73.997262  \n",
       "1             -73.987140  \n",
       "2             -73.988639  \n",
       "3             -73.967416  \n",
       "4             -73.979661  "
      ]
     },
     "execution_count": 107,
     "metadata": {},
     "output_type": "execute_result"
    }
   ],
   "source": [
    "state_rec.head(5)"
   ]
  },
  {
   "cell_type": "code",
   "execution_count": 109,
   "id": "d78aebfb-1b66-4dfa-b445-a29b6b1addeb",
   "metadata": {},
   "outputs": [],
   "source": [
    "s2 = state_rec.idxmax(axis=1)"
   ]
  },
  {
   "cell_type": "code",
   "execution_count": 111,
   "id": "89866a33-840c-4d62-85e3-9133ceda6317",
   "metadata": {},
   "outputs": [
    {
     "data": {
      "text/plain": [
       "0        start_station_latitude\n",
       "1          end_station_latitude\n",
       "2          end_station_latitude\n",
       "3          end_station_latitude\n",
       "4        start_station_latitude\n",
       "                  ...          \n",
       "49967      end_station_latitude\n",
       "49968      end_station_latitude\n",
       "49969      end_station_latitude\n",
       "49970      end_station_latitude\n",
       "49971    start_station_latitude\n",
       "Length: 49972, dtype: object"
      ]
     },
     "execution_count": 111,
     "metadata": {},
     "output_type": "execute_result"
    }
   ],
   "source": [
    "s2"
   ]
  },
  {
   "cell_type": "code",
   "execution_count": 113,
   "id": "57054d56-82ac-45b2-aa79-c1f112d5e2e9",
   "metadata": {},
   "outputs": [
    {
     "name": "stderr",
     "output_type": "stream",
     "text": [
      "/var/folders/j8/l8hsy2p15dj9phf2ztxh0b040000gn/T/ipykernel_98318/769773359.py:1: SettingWithCopyWarning: \n",
      "A value is trying to be set on a copy of a slice from a DataFrame.\n",
      "Try using .loc[row_indexer,col_indexer] = value instead\n",
      "\n",
      "See the caveats in the documentation: https://pandas.pydata.org/pandas-docs/stable/user_guide/indexing.html#returning-a-view-versus-a-copy\n",
      "  state_rec['STATE_NAME'] = s2\n"
     ]
    }
   ],
   "source": [
    "state_rec['STATE_NAME'] = s2"
   ]
  },
  {
   "cell_type": "code",
   "execution_count": 115,
   "id": "3ebf5749-2636-47a3-aa30-eb8f88d972bc",
   "metadata": {},
   "outputs": [
    {
     "data": {
      "text/plain": [
       "Index(['start_station_latitude', 'start_station_longitude',\n",
       "       'end_station_latitude', 'end_station_longitude', 'STATE_NAME'],\n",
       "      dtype='object')"
      ]
     },
     "execution_count": 115,
     "metadata": {},
     "output_type": "execute_result"
    }
   ],
   "source": [
    "state_rec.columns"
   ]
  },
  {
   "cell_type": "markdown",
   "id": "4d5a69b6-8aed-4a25-911b-8a604337d6ea",
   "metadata": {},
   "source": [
    "### 3. Data Cleaning"
   ]
  },
  {
   "cell_type": "code",
   "execution_count": 117,
   "id": "595ad7cc-1690-4b0c-9d9b-c2912d3145f0",
   "metadata": {},
   "outputs": [
    {
     "data": {
      "text/plain": [
       "start_station_latitude     0\n",
       "start_station_longitude    0\n",
       "end_station_latitude       0\n",
       "end_station_longitude      0\n",
       "STATE_NAME                 0\n",
       "dtype: int64"
      ]
     },
     "execution_count": 117,
     "metadata": {},
     "output_type": "execute_result"
    }
   ],
   "source": [
    "# Checking for missing values\n",
    "\n",
    "state_rec.isnull().sum()"
   ]
  },
  {
   "cell_type": "code",
   "execution_count": 119,
   "id": "05bef36c-ad74-4cfe-8a02-7c35895a96e4",
   "metadata": {},
   "outputs": [],
   "source": [
    "# Checking for duplicates\n",
    "dups = state_rec.duplicated()"
   ]
  },
  {
   "cell_type": "code",
   "execution_count": 121,
   "id": "93e5c6c2-9ffa-45b8-a243-f4adab6b7d82",
   "metadata": {},
   "outputs": [
    {
     "data": {
      "text/plain": [
       "(49972,)"
      ]
     },
     "execution_count": 121,
     "metadata": {},
     "output_type": "execute_result"
    }
   ],
   "source": [
    "# No duplicates found\n",
    "dups.shape"
   ]
  },
  {
   "cell_type": "code",
   "execution_count": 123,
   "id": "3537fe80-551e-4046-9a2b-f86cda799bf7",
   "metadata": {},
   "outputs": [
    {
     "data": {
      "text/plain": [
       "start_station_latitude     float64\n",
       "start_station_longitude    float64\n",
       "end_station_latitude       float64\n",
       "end_station_longitude      float64\n",
       "STATE_NAME                  object\n",
       "dtype: object"
      ]
     },
     "execution_count": 123,
     "metadata": {},
     "output_type": "execute_result"
    }
   ],
   "source": [
    "# Checking the datatypes of the columns\n",
    "state_rec.dtypes"
   ]
  },
  {
   "cell_type": "markdown",
   "id": "cc9de48c-8c24-437e-b8d0-ee8236bca57a",
   "metadata": {},
   "source": [
    "### 4. Plotting a choropleth map"
   ]
  },
  {
   "cell_type": "code",
   "execution_count": 125,
   "id": "b446d662-87b5-40bf-8cd1-dfc1ae703aba",
   "metadata": {},
   "outputs": [
    {
     "data": {
      "text/html": [
       "<div>\n",
       "<style scoped>\n",
       "    .dataframe tbody tr th:only-of-type {\n",
       "        vertical-align: middle;\n",
       "    }\n",
       "\n",
       "    .dataframe tbody tr th {\n",
       "        vertical-align: top;\n",
       "    }\n",
       "\n",
       "    .dataframe thead th {\n",
       "        text-align: right;\n",
       "    }\n",
       "</style>\n",
       "<table border=\"1\" class=\"dataframe\">\n",
       "  <thead>\n",
       "    <tr style=\"text-align: right;\">\n",
       "      <th></th>\n",
       "      <th>start_station_latitude</th>\n",
       "      <th>start_station_longitude</th>\n",
       "      <th>end_station_latitude</th>\n",
       "      <th>end_station_longitude</th>\n",
       "      <th>STATE_NAME</th>\n",
       "    </tr>\n",
       "  </thead>\n",
       "  <tbody>\n",
       "    <tr>\n",
       "      <th>0</th>\n",
       "      <td>40.754666</td>\n",
       "      <td>-73.991382</td>\n",
       "      <td>40.742388</td>\n",
       "      <td>-73.997262</td>\n",
       "      <td>start_station_latitude</td>\n",
       "    </tr>\n",
       "    <tr>\n",
       "      <th>1</th>\n",
       "      <td>40.719392</td>\n",
       "      <td>-74.002472</td>\n",
       "      <td>40.728419</td>\n",
       "      <td>-73.987140</td>\n",
       "      <td>end_station_latitude</td>\n",
       "    </tr>\n",
       "    <tr>\n",
       "      <th>2</th>\n",
       "      <td>40.760193</td>\n",
       "      <td>-73.991255</td>\n",
       "      <td>40.768254</td>\n",
       "      <td>-73.988639</td>\n",
       "      <td>end_station_latitude</td>\n",
       "    </tr>\n",
       "    <tr>\n",
       "      <th>3</th>\n",
       "      <td>40.743156</td>\n",
       "      <td>-73.974347</td>\n",
       "      <td>40.756014</td>\n",
       "      <td>-73.967416</td>\n",
       "      <td>end_station_latitude</td>\n",
       "    </tr>\n",
       "    <tr>\n",
       "      <th>4</th>\n",
       "      <td>40.750450</td>\n",
       "      <td>-73.994811</td>\n",
       "      <td>40.743943</td>\n",
       "      <td>-73.979661</td>\n",
       "      <td>start_station_latitude</td>\n",
       "    </tr>\n",
       "  </tbody>\n",
       "</table>\n",
       "</div>"
      ],
      "text/plain": [
       "   start_station_latitude  start_station_longitude  end_station_latitude  \\\n",
       "0               40.754666               -73.991382             40.742388   \n",
       "1               40.719392               -74.002472             40.728419   \n",
       "2               40.760193               -73.991255             40.768254   \n",
       "3               40.743156               -73.974347             40.756014   \n",
       "4               40.750450               -73.994811             40.743943   \n",
       "\n",
       "   end_station_longitude              STATE_NAME  \n",
       "0             -73.997262  start_station_latitude  \n",
       "1             -73.987140    end_station_latitude  \n",
       "2             -73.988639    end_station_latitude  \n",
       "3             -73.967416    end_station_latitude  \n",
       "4             -73.979661  start_station_latitude  "
      ]
     },
     "execution_count": 125,
     "metadata": {},
     "output_type": "execute_result"
    }
   ],
   "source": [
    "state_rec.head()"
   ]
  },
  {
   "cell_type": "code",
   "execution_count": 131,
   "id": "d62f6959-2dbc-452f-a9ec-01b615dd0fa2",
   "metadata": {
    "scrolled": true
   },
   "outputs": [
    {
     "ename": "PermissionError",
     "evalue": "[Errno 1] Operation not permitted: '/Users/peterguan/Desktop/CareerFoundry/Data Immersion Achievement 6/JSON file U.S. States.json'",
     "output_type": "error",
     "traceback": [
      "\u001b[0;31m---------------------------------------------------------------------------\u001b[0m",
      "\u001b[0;31mPermissionError\u001b[0m                           Traceback (most recent call last)",
      "Cell \u001b[0;32mIn[131], line 5\u001b[0m\n\u001b[1;32m      2\u001b[0m \u001b[38;5;28mmap\u001b[39m \u001b[38;5;241m=\u001b[39m folium\u001b[38;5;241m.\u001b[39mMap(location\u001b[38;5;241m=\u001b[39m[\u001b[38;5;241m100\u001b[39m, \u001b[38;5;241m0\u001b[39m], zoom_start\u001b[38;5;241m=\u001b[39m\u001b[38;5;241m1.5\u001b[39m)\n\u001b[1;32m      4\u001b[0m \u001b[38;5;66;03m# Choropleth maps bind Pandas DataFrames and JSON geometries\u001b[39;00m\n\u001b[0;32m----> 5\u001b[0m folium\u001b[38;5;241m.\u001b[39mChoropleth(\n\u001b[1;32m      6\u001b[0m     geo_data\u001b[38;5;241m=\u001b[39mstates_geo, \n\u001b[1;32m      7\u001b[0m     data\u001b[38;5;241m=\u001b[39mstate_rec,\n\u001b[1;32m      8\u001b[0m     columns\u001b[38;5;241m=\u001b[39m[\u001b[38;5;124m'\u001b[39m\u001b[38;5;124mstart_station_latitude\u001b[39m\u001b[38;5;124m'\u001b[39m, \u001b[38;5;124m'\u001b[39m\u001b[38;5;124mstart_station_longitude\u001b[39m\u001b[38;5;124m'\u001b[39m, \u001b[38;5;124m'\u001b[39m\u001b[38;5;124mend_station_latitude\u001b[39m\u001b[38;5;124m'\u001b[39m, \u001b[38;5;124m'\u001b[39m\u001b[38;5;124mend_station_longitude\u001b[39m\u001b[38;5;124m'\u001b[39m, \u001b[38;5;124m'\u001b[39m\u001b[38;5;124mSTATE_NAME\u001b[39m\u001b[38;5;124m'\u001b[39m],\n\u001b[1;32m      9\u001b[0m     key_on\u001b[38;5;241m=\u001b[39m\u001b[38;5;124m'\u001b[39m\u001b[38;5;124mfeature.id\u001b[39m\u001b[38;5;124m'\u001b[39m,  \u001b[38;5;66;03m# Correct way to specify the key reference\u001b[39;00m\n\u001b[1;32m     10\u001b[0m     fill_color\u001b[38;5;241m=\u001b[39m\u001b[38;5;124m'\u001b[39m\u001b[38;5;124mYlOrBr\u001b[39m\u001b[38;5;124m'\u001b[39m, \n\u001b[1;32m     11\u001b[0m     fill_opacity\u001b[38;5;241m=\u001b[39m\u001b[38;5;241m0.6\u001b[39m, \n\u001b[1;32m     12\u001b[0m     line_opacity\u001b[38;5;241m=\u001b[39m\u001b[38;5;241m0.1\u001b[39m,\n\u001b[1;32m     13\u001b[0m     legend_name\u001b[38;5;241m=\u001b[39m\u001b[38;5;124m\"\u001b[39m\u001b[38;5;124mSTATE_NAME\u001b[39m\u001b[38;5;124m\"\u001b[39m\n\u001b[1;32m     14\u001b[0m )\u001b[38;5;241m.\u001b[39madd_to(\u001b[38;5;28mmap\u001b[39m)\n\u001b[1;32m     16\u001b[0m folium\u001b[38;5;241m.\u001b[39mLayerControl()\u001b[38;5;241m.\u001b[39madd_to(\u001b[38;5;28mmap\u001b[39m)\n\u001b[1;32m     18\u001b[0m \u001b[38;5;28mmap\u001b[39m\n",
      "File \u001b[0;32m/opt/anaconda3/lib/python3.12/site-packages/folium/features.py:1638\u001b[0m, in \u001b[0;36mChoropleth.__init__\u001b[0;34m(self, geo_data, data, columns, key_on, bins, fill_color, nan_fill_color, fill_opacity, nan_fill_opacity, line_color, line_weight, line_opacity, name, legend_name, overlay, control, show, topojson, smooth_factor, highlight, use_jenks, **kwargs)\u001b[0m\n\u001b[1;32m   1631\u001b[0m     \u001b[38;5;28mself\u001b[39m\u001b[38;5;241m.\u001b[39mgeojson \u001b[38;5;241m=\u001b[39m TopoJson(\n\u001b[1;32m   1632\u001b[0m         geo_data,\n\u001b[1;32m   1633\u001b[0m         topojson,\n\u001b[1;32m   1634\u001b[0m         style_function\u001b[38;5;241m=\u001b[39mstyle_function,\n\u001b[1;32m   1635\u001b[0m         smooth_factor\u001b[38;5;241m=\u001b[39msmooth_factor,\n\u001b[1;32m   1636\u001b[0m     )\n\u001b[1;32m   1637\u001b[0m \u001b[38;5;28;01melse\u001b[39;00m:\n\u001b[0;32m-> 1638\u001b[0m     \u001b[38;5;28mself\u001b[39m\u001b[38;5;241m.\u001b[39mgeojson \u001b[38;5;241m=\u001b[39m GeoJson(\n\u001b[1;32m   1639\u001b[0m         geo_data,\n\u001b[1;32m   1640\u001b[0m         style_function\u001b[38;5;241m=\u001b[39mstyle_function,\n\u001b[1;32m   1641\u001b[0m         smooth_factor\u001b[38;5;241m=\u001b[39msmooth_factor,\n\u001b[1;32m   1642\u001b[0m         highlight_function\u001b[38;5;241m=\u001b[39mhighlight_function \u001b[38;5;28;01mif\u001b[39;00m highlight \u001b[38;5;28;01melse\u001b[39;00m \u001b[38;5;28;01mNone\u001b[39;00m,\n\u001b[1;32m   1643\u001b[0m     )\n\u001b[1;32m   1645\u001b[0m \u001b[38;5;28mself\u001b[39m\u001b[38;5;241m.\u001b[39madd_child(\u001b[38;5;28mself\u001b[39m\u001b[38;5;241m.\u001b[39mgeojson)\n\u001b[1;32m   1646\u001b[0m \u001b[38;5;28;01mif\u001b[39;00m \u001b[38;5;28mself\u001b[39m\u001b[38;5;241m.\u001b[39mcolor_scale:\n",
      "File \u001b[0;32m/opt/anaconda3/lib/python3.12/site-packages/folium/features.py:697\u001b[0m, in \u001b[0;36mGeoJson.__init__\u001b[0;34m(self, data, style_function, highlight_function, popup_keep_highlighted, name, overlay, control, show, smooth_factor, tooltip, embed, popup, zoom_on_click, marker, **kwargs)\u001b[0m\n\u001b[1;32m    694\u001b[0m \u001b[38;5;28mself\u001b[39m\u001b[38;5;241m.\u001b[39mmarker \u001b[38;5;241m=\u001b[39m marker\n\u001b[1;32m    695\u001b[0m \u001b[38;5;28mself\u001b[39m\u001b[38;5;241m.\u001b[39moptions \u001b[38;5;241m=\u001b[39m parse_options(\u001b[38;5;241m*\u001b[39m\u001b[38;5;241m*\u001b[39mkwargs)\n\u001b[0;32m--> 697\u001b[0m \u001b[38;5;28mself\u001b[39m\u001b[38;5;241m.\u001b[39mdata \u001b[38;5;241m=\u001b[39m \u001b[38;5;28mself\u001b[39m\u001b[38;5;241m.\u001b[39mprocess_data(data)\n\u001b[1;32m    699\u001b[0m \u001b[38;5;28;01mif\u001b[39;00m \u001b[38;5;28mself\u001b[39m\u001b[38;5;241m.\u001b[39mstyle \u001b[38;5;129;01mor\u001b[39;00m \u001b[38;5;28mself\u001b[39m\u001b[38;5;241m.\u001b[39mhighlight:\n\u001b[1;32m    700\u001b[0m     \u001b[38;5;28mself\u001b[39m\u001b[38;5;241m.\u001b[39mconvert_to_feature_collection()\n",
      "File \u001b[0;32m/opt/anaconda3/lib/python3.12/site-packages/folium/features.py:734\u001b[0m, in \u001b[0;36mGeoJson.process_data\u001b[0;34m(self, data)\u001b[0m\n\u001b[1;32m    732\u001b[0m         \u001b[38;5;28;01mif\u001b[39;00m \u001b[38;5;129;01mnot\u001b[39;00m \u001b[38;5;28mself\u001b[39m\u001b[38;5;241m.\u001b[39membed:\n\u001b[1;32m    733\u001b[0m             \u001b[38;5;28mself\u001b[39m\u001b[38;5;241m.\u001b[39membed_link \u001b[38;5;241m=\u001b[39m data\n\u001b[0;32m--> 734\u001b[0m         \u001b[38;5;28;01mwith\u001b[39;00m \u001b[38;5;28mopen\u001b[39m(data) \u001b[38;5;28;01mas\u001b[39;00m f:\n\u001b[1;32m    735\u001b[0m             \u001b[38;5;28;01mreturn\u001b[39;00m json\u001b[38;5;241m.\u001b[39mloads(f\u001b[38;5;241m.\u001b[39mread())\n\u001b[1;32m    736\u001b[0m \u001b[38;5;28;01melif\u001b[39;00m \u001b[38;5;28mhasattr\u001b[39m(data, \u001b[38;5;124m\"\u001b[39m\u001b[38;5;124m__geo_interface__\u001b[39m\u001b[38;5;124m\"\u001b[39m):\n",
      "\u001b[0;31mPermissionError\u001b[0m: [Errno 1] Operation not permitted: '/Users/peterguan/Desktop/CareerFoundry/Data Immersion Achievement 6/JSON file U.S. States.json'"
     ]
    }
   ],
   "source": [
    "# Setup a folium map at a high-level zoom\n",
    "map = folium.Map(location=[100, 0], zoom_start=1.5)\n",
    "\n",
    "# Choropleth maps bind Pandas DataFrames and JSON geometries\n",
    "folium.Choropleth(\n",
    "    geo_data=states_geo, \n",
    "    data=state_rec,\n",
    "    columns=['start_station_latitude', 'start_station_longitude', 'end_station_latitude', 'end_station_longitude', 'STATE_NAME'],\n",
    "    key_on='feature.id',  # Correct way to specify the key reference\n",
    "    fill_color='YlOrBr', \n",
    "    fill_opacity=0.6, \n",
    "    line_opacity=0.1,\n",
    "    legend_name=\"STATE_NAME\"\n",
    ").add_to(map)\n",
    "\n",
    "folium.LayerControl().add_to(map)\n",
    "\n",
    "map"
   ]
  },
  {
   "cell_type": "code",
   "execution_count": null,
   "id": "2f1c5b80-ef3d-4ada-b498-f773f0dd8b64",
   "metadata": {},
   "outputs": [],
   "source": []
  }
 ],
 "metadata": {
  "kernelspec": {
   "display_name": "Python 3 (ipykernel)",
   "language": "python",
   "name": "python3"
  },
  "language_info": {
   "codemirror_mode": {
    "name": "ipython",
    "version": 3
   },
   "file_extension": ".py",
   "mimetype": "text/x-python",
   "name": "python",
   "nbconvert_exporter": "python",
   "pygments_lexer": "ipython3",
   "version": "3.12.4"
  }
 },
 "nbformat": 4,
 "nbformat_minor": 5
}
